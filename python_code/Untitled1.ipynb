{
 "cells": [
  {
   "cell_type": "code",
   "execution_count": 2,
   "metadata": {},
   "outputs": [],
   "source": [
    "# -*- coding:utf8 -*-\n",
    "# !/usr/bin/env python\n",
    "# Copyright 2017 Google Inc. All Rights Reserved.\n",
    "#\n",
    "# Licensed under the Apache License, Version 2.0 (the \"License\");\n",
    "# you may not use this file except in compliance with the License.\n",
    "# You may obtain a copy of the License at\n",
    "#\n",
    "#     http://www.apache.org/licenses/LICENSE-2.0\n",
    "#\n",
    "# Unless required by applicable law or agreed to in writing, software\n",
    "# distributed under the License is distributed on an \"AS IS\" BASIS,\n",
    "# WITHOUT WARRANTIES OR CONDITIONS OF ANY KIND, either express or implied.\n",
    "# See the License for the specific language governing permissions and\n",
    "# limitations under the License.\n",
    "\n",
    "import os.path\n",
    "import sys\n"
   ]
  },
  {
   "cell_type": "code",
   "execution_count": 3,
   "metadata": {},
   "outputs": [],
   "source": [
    "\n",
    "try:\n",
    "    import apiai\n",
    "except ImportError:\n",
    "    sys.path.append(\n",
    "        os.path.join(os.path.dirname(os.path.realpath(__file__)), os.pardir)\n",
    "    )\n",
    "    import apiai\n",
    "\n",
    "import uuid\n",
    "\n",
    "CLIENT_ACCESS_TOKEN = '2126bc6f4e40408098a3c96e50c29ff9'\n",
    "\n",
    "\n"
   ]
  },
  {
   "cell_type": "code",
   "execution_count": 12,
   "metadata": {},
   "outputs": [
    {
     "name": "stdout",
     "output_type": "stream",
     "text": [
      "Upload user entities response:  b'{\\n  \"id\": \"3fdf8c78-1b61-4cda-8486-810ae89daee3\",\\n  \"timestamp\": \"2018-09-23T08:34:48.691Z\",\\n  \"lang\": \"en\",\\n  \"status\": {\\n    \"code\": 404,\\n    \"errorType\": \"not_found\",\\n    \"errorDetails\": \"Entity \\\\u0027Application\\\\u0027 is not found.\",\\n    \"errorID\": \"3c1fbc4f-3013-4239-a062-1d4ec9f62ab5\"\\n  }\\n}'\n",
      "Query response:  b'{\\n  \"id\": \"c8baba80-3f21-4252-bd20-7a3eec0b0a39\",\\n  \"timestamp\": \"2018-09-23T08:34:48.865Z\",\\n  \"lang\": \"en\",\\n  \"result\": {\\n    \"source\": \"agent\",\\n    \"resolvedQuery\": \"Open application Firefox\",\\n    \"action\": \"input.unknown\",\\n    \"actionIncomplete\": false,\\n    \"parameters\": {},\\n    \"contexts\": [],\\n    \"metadata\": {\\n      \"intentId\": \"cc9686df-b8ee-48cc-9921-05da24d24a87\",\\n      \"webhookUsed\": \"false\",\\n      \"webhookForSlotFillingUsed\": \"false\",\\n      \"isFallbackIntent\": \"true\",\\n      \"intentName\": \"Default Fallback Intent\"\\n    },\\n    \"fulfillment\": {\\n      \"speech\": \"One more time?\",\\n      \"messages\": [\\n        {\\n          \"type\": 0,\\n          \"speech\": \"Sorry, can you say that again?\"\\n        }\\n      ]\\n    },\\n    \"score\": 1.0\\n  },\\n  \"status\": {\\n    \"code\": 200,\\n    \"errorType\": \"success\"\\n  },\\n  \"sessionId\": \"f0b4c45ab2b14626b2c119cc5f5e75c1\"\\n}'\n"
     ]
    }
   ],
   "source": [
    "def main():\n",
    "    ai = apiai.ApiAI(CLIENT_ACCESS_TOKEN)\n",
    "\n",
    "    # some unuque session id for user identification\n",
    "    session_id = uuid.uuid4().hex\n",
    "\n",
    "    entries = [\n",
    "        apiai.UserEntityEntry('Firefox', ['Firefox']),\n",
    "        apiai.UserEntityEntry('XCode', ['XCode']),\n",
    "        apiai.UserEntityEntry('Sublime Text', ['Sublime Text'])\n",
    "    ]\n",
    "\n",
    "    user_entities_request = ai.user_entities_request(\n",
    "        [\n",
    "            apiai.UserEntity(\"Application\", entries, session_id)\n",
    "        ]\n",
    "    )\n",
    "\n",
    "    user_entities_response = user_entities_request.getresponse()\n",
    "\n",
    "    print('Upload user entities response: ', user_entities_response.read())\n",
    "\n",
    "    request = ai.text_request()\n",
    "\n",
    "    request.session_id = session_id\n",
    "    request.query = \"Open application Firefox\"\n",
    "    response = request.getresponse()\n",
    "\n",
    "    print('Query response: ', response.read())\n",
    "\n",
    "\n",
    "if __name__ == '__main__':\n",
    "    main()"
   ]
  },
  {
   "cell_type": "code",
   "execution_count": null,
   "metadata": {},
   "outputs": [],
   "source": []
  },
  {
   "cell_type": "code",
   "execution_count": null,
   "metadata": {},
   "outputs": [],
   "source": []
  },
  {
   "cell_type": "code",
   "execution_count": null,
   "metadata": {},
   "outputs": [],
   "source": []
  },
  {
   "cell_type": "code",
   "execution_count": null,
   "metadata": {},
   "outputs": [],
   "source": []
  },
  {
   "cell_type": "code",
   "execution_count": null,
   "metadata": {},
   "outputs": [],
   "source": []
  },
  {
   "cell_type": "code",
   "execution_count": null,
   "metadata": {},
   "outputs": [],
   "source": []
  },
  {
   "cell_type": "code",
   "execution_count": null,
   "metadata": {},
   "outputs": [],
   "source": []
  },
  {
   "cell_type": "code",
   "execution_count": null,
   "metadata": {},
   "outputs": [],
   "source": []
  },
  {
   "cell_type": "code",
   "execution_count": null,
   "metadata": {},
   "outputs": [],
   "source": []
  }
 ],
 "metadata": {
  "kernelspec": {
   "display_name": "Python 3",
   "language": "python",
   "name": "python3"
  },
  "language_info": {
   "codemirror_mode": {
    "name": "ipython",
    "version": 3
   },
   "file_extension": ".py",
   "mimetype": "text/x-python",
   "name": "python",
   "nbconvert_exporter": "python",
   "pygments_lexer": "ipython3",
   "version": "3.7.0"
  }
 },
 "nbformat": 4,
 "nbformat_minor": 2
}
