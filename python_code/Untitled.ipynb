{
 "cells": [
  {
   "cell_type": "code",
   "execution_count": 401,
   "metadata": {},
   "outputs": [],
   "source": [
    "from canvasapi import Canvas\n",
    "from canvasapi import course\n",
    "from canvasapi import requester\n",
    "import dialogflow\n",
    "import re\n",
    "import datetime\n",
    "import pytz\n",
    "import pandas as pd\n",
    "import googleapiclient"
   ]
  },
  {
   "cell_type": "markdown",
   "metadata": {},
   "source": [
    "### Header"
   ]
  },
  {
   "cell_type": "code",
   "execution_count": 2,
   "metadata": {},
   "outputs": [],
   "source": [
    "canvas = Canvas(\"https://canvas.instructure.com/\", \"9226~IXAVPEwPuGlKnvPD7eVYRjQQBKyEIRd8O26iQIEncL8bsg6SHJsGUHBoKlPD2tW4\")"
   ]
  },
  {
   "cell_type": "code",
   "execution_count": null,
   "metadata": {},
   "outputs": [],
   "source": [
    "googleapiclient.logging()"
   ]
  },
  {
   "cell_type": "markdown",
   "metadata": {},
   "source": [
    "### Functions"
   ]
  },
  {
   "cell_type": "code",
   "execution_count": 116,
   "metadata": {},
   "outputs": [],
   "source": [
    "def size(object):\n",
    "    v = 0\n",
    "    for i in object:\n",
    "        v = v + 1\n",
    "    return(v)"
   ]
  },
  {
   "cell_type": "code",
   "execution_count": 291,
   "metadata": {},
   "outputs": [],
   "source": [
    "def object_names(object):\n",
    "    object_list = []\n",
    "    for i in range(size(object)):\n",
    "        object_list.append(object[i].name)\n",
    "    return(object_list)      "
   ]
  },
  {
   "cell_type": "code",
   "execution_count": 382,
   "metadata": {},
   "outputs": [],
   "source": [
    "def object_due_date(object):\n",
    "    object_list = []\n",
    "    for i in range(size(object)):\n",
    "        try:\n",
    "           object_list.append(((object[i].lock_at_date).astimezone(pytz.timezone(\"America/New_York\"))).strftime(\"%Y-%m-%d %H:%M:%S\"))\n",
    "        except:\n",
    "           object_list.append(None)\n",
    "    return(object_list)"
   ]
  },
  {
   "cell_type": "markdown",
   "metadata": {},
   "source": [
    "### Return courses"
   ]
  },
  {
   "cell_type": "code",
   "execution_count": 87,
   "metadata": {},
   "outputs": [],
   "source": [
    "courses_list = canvas.get_courses(enrollment_status='active')"
   ]
  },
  {
   "cell_type": "code",
   "execution_count": 292,
   "metadata": {},
   "outputs": [],
   "source": [
    "courses = object_names(courses_list)"
   ]
  },
  {
   "cell_type": "code",
   "execution_count": 69,
   "metadata": {},
   "outputs": [
    {
     "data": {
      "text/plain": [
       "['COM 2160',\n",
       " 'Computer Science Assessment Group',\n",
       " 'Fall 2018 Algebra 1 Sec 001',\n",
       " 'Fall 2018 Computer Sci 1: Lab Sec 003',\n",
       " 'Fall 2018 Intlgnt Systms:Algrthms&Tools Sec 001',\n",
       " 'Fall 2018 Intro: Machine Learning&Apps Sec 001',\n",
       " 'Honors 4998 Thesis',\n",
       " 'STUDENTS: Introduction to Canvas']"
      ]
     },
     "execution_count": 69,
     "metadata": {},
     "output_type": "execute_result"
    }
   ],
   "source": [
    "courses"
   ]
  },
  {
   "cell_type": "code",
   "execution_count": 313,
   "metadata": {},
   "outputs": [],
   "source": [
    "all_hw = []\n",
    "for i in range(size(courses_list)):\n",
    "    all_hw.append(object_names(course.Course.get_assignments(courses_list[i])))"
   ]
  },
  {
   "cell_type": "code",
   "execution_count": 280,
   "metadata": {},
   "outputs": [
    {
     "data": {
      "text/plain": [
       "datetime.datetime(2018, 9, 27, 3, 59, 59, tzinfo=<UTC>)"
      ]
     },
     "execution_count": 280,
     "metadata": {},
     "output_type": "execute_result"
    }
   ],
   "source": [
    "course.Course.get_assignments(courses_list[4])[0].lock_at_date"
   ]
  },
  {
   "cell_type": "code",
   "execution_count": 383,
   "metadata": {},
   "outputs": [],
   "source": [
    "all_due_dates = []\n",
    "for i in range(size(courses_list)):\n",
    "    all_due_dates.append(object_due_date(course.Course.get_assignments(courses_list[i])))"
   ]
  },
  {
   "cell_type": "code",
   "execution_count": 394,
   "metadata": {},
   "outputs": [],
   "source": [
    "df_list = []\n",
    "for i in range(size(courses)):\n",
    "  df_list.append(pd.DataFrame({'title' : all_hw[i], 'due_date' : all_due_dates[i], 'class' : courses[i]}))"
   ]
  },
  {
   "cell_type": "code",
   "execution_count": 396,
   "metadata": {},
   "outputs": [],
   "source": [
    "df = pd.concat(df_list)"
   ]
  },
  {
   "cell_type": "code",
   "execution_count": 397,
   "metadata": {},
   "outputs": [
    {
     "data": {
      "text/html": [
       "<div>\n",
       "<style scoped>\n",
       "    .dataframe tbody tr th:only-of-type {\n",
       "        vertical-align: middle;\n",
       "    }\n",
       "\n",
       "    .dataframe tbody tr th {\n",
       "        vertical-align: top;\n",
       "    }\n",
       "\n",
       "    .dataframe thead th {\n",
       "        text-align: right;\n",
       "    }\n",
       "</style>\n",
       "<table border=\"1\" class=\"dataframe\">\n",
       "  <thead>\n",
       "    <tr style=\"text-align: right;\">\n",
       "      <th></th>\n",
       "      <th>title</th>\n",
       "      <th>due_date</th>\n",
       "      <th>class</th>\n",
       "    </tr>\n",
       "  </thead>\n",
       "  <tbody>\n",
       "    <tr>\n",
       "      <th>0</th>\n",
       "      <td>Spring Summer 2018 Syllabus</td>\n",
       "      <td>None</td>\n",
       "      <td>Computer Science Assessment Group</td>\n",
       "    </tr>\n",
       "    <tr>\n",
       "      <th>1</th>\n",
       "      <td>Assessment File</td>\n",
       "      <td>None</td>\n",
       "      <td>Computer Science Assessment Group</td>\n",
       "    </tr>\n",
       "    <tr>\n",
       "      <th>2</th>\n",
       "      <td>Samples of Students Work (Low-Med-High) Files</td>\n",
       "      <td>None</td>\n",
       "      <td>Computer Science Assessment Group</td>\n",
       "    </tr>\n",
       "    <tr>\n",
       "      <th>3</th>\n",
       "      <td>Supporting Documents</td>\n",
       "      <td>None</td>\n",
       "      <td>Computer Science Assessment Group</td>\n",
       "    </tr>\n",
       "    <tr>\n",
       "      <th>4</th>\n",
       "      <td>Fall 2018 Syllabus Submission</td>\n",
       "      <td>None</td>\n",
       "      <td>Computer Science Assessment Group</td>\n",
       "    </tr>\n",
       "    <tr>\n",
       "      <th>5</th>\n",
       "      <td>Assessment File Submission</td>\n",
       "      <td>None</td>\n",
       "      <td>Computer Science Assessment Group</td>\n",
       "    </tr>\n",
       "    <tr>\n",
       "      <th>0</th>\n",
       "      <td>Lab 00</td>\n",
       "      <td>2018-09-05 10:00:00</td>\n",
       "      <td>Fall 2018 Computer Sci 1: Lab Sec 003</td>\n",
       "    </tr>\n",
       "    <tr>\n",
       "      <th>1</th>\n",
       "      <td>Roll Call Attendance 8/29</td>\n",
       "      <td>None</td>\n",
       "      <td>Fall 2018 Computer Sci 1: Lab Sec 003</td>\n",
       "    </tr>\n",
       "    <tr>\n",
       "      <th>2</th>\n",
       "      <td>Lab 0.5</td>\n",
       "      <td>2018-09-10 10:00:00</td>\n",
       "      <td>Fall 2018 Computer Sci 1: Lab Sec 003</td>\n",
       "    </tr>\n",
       "    <tr>\n",
       "      <th>3</th>\n",
       "      <td>Roll Call Attendance 9/5</td>\n",
       "      <td>None</td>\n",
       "      <td>Fall 2018 Computer Sci 1: Lab Sec 003</td>\n",
       "    </tr>\n",
       "    <tr>\n",
       "      <th>4</th>\n",
       "      <td>Lab01</td>\n",
       "      <td>2018-12-30 23:59:00</td>\n",
       "      <td>Fall 2018 Computer Sci 1: Lab Sec 003</td>\n",
       "    </tr>\n",
       "    <tr>\n",
       "      <th>5</th>\n",
       "      <td>Lab02</td>\n",
       "      <td>2018-12-30 23:59:59</td>\n",
       "      <td>Fall 2018 Computer Sci 1: Lab Sec 003</td>\n",
       "    </tr>\n",
       "    <tr>\n",
       "      <th>6</th>\n",
       "      <td>Roll Call Attendance 9/10</td>\n",
       "      <td>None</td>\n",
       "      <td>Fall 2018 Computer Sci 1: Lab Sec 003</td>\n",
       "    </tr>\n",
       "    <tr>\n",
       "      <th>7</th>\n",
       "      <td>Roll Call Attendance 9/12</td>\n",
       "      <td>None</td>\n",
       "      <td>Fall 2018 Computer Sci 1: Lab Sec 003</td>\n",
       "    </tr>\n",
       "    <tr>\n",
       "      <th>8</th>\n",
       "      <td>Lab 03</td>\n",
       "      <td>2018-12-30 23:59:00</td>\n",
       "      <td>Fall 2018 Computer Sci 1: Lab Sec 003</td>\n",
       "    </tr>\n",
       "    <tr>\n",
       "      <th>9</th>\n",
       "      <td>Lab 04</td>\n",
       "      <td>2018-12-30 23:59:00</td>\n",
       "      <td>Fall 2018 Computer Sci 1: Lab Sec 003</td>\n",
       "    </tr>\n",
       "    <tr>\n",
       "      <th>10</th>\n",
       "      <td>Roll Call Attendance</td>\n",
       "      <td>None</td>\n",
       "      <td>Fall 2018 Computer Sci 1: Lab Sec 003</td>\n",
       "    </tr>\n",
       "    <tr>\n",
       "      <th>0</th>\n",
       "      <td>Assignment 1</td>\n",
       "      <td>2018-09-26 23:59:59</td>\n",
       "      <td>Fall 2018 Intlgnt Systms:Algrthms&amp;Tools Sec 001</td>\n",
       "    </tr>\n",
       "    <tr>\n",
       "      <th>0</th>\n",
       "      <td>Roll Call Attendance</td>\n",
       "      <td>None</td>\n",
       "      <td>Fall 2018 Intro: Machine Learning&amp;Apps Sec 001</td>\n",
       "    </tr>\n",
       "    <tr>\n",
       "      <th>1</th>\n",
       "      <td>Homework 1</td>\n",
       "      <td>2018-09-19 11:59:00</td>\n",
       "      <td>Fall 2018 Intro: Machine Learning&amp;Apps Sec 001</td>\n",
       "    </tr>\n",
       "    <tr>\n",
       "      <th>2</th>\n",
       "      <td>Homework 2</td>\n",
       "      <td>None</td>\n",
       "      <td>Fall 2018 Intro: Machine Learning&amp;Apps Sec 001</td>\n",
       "    </tr>\n",
       "    <tr>\n",
       "      <th>0</th>\n",
       "      <td>Thesis Draft</td>\n",
       "      <td>None</td>\n",
       "      <td>Honors 4998 Thesis</td>\n",
       "    </tr>\n",
       "    <tr>\n",
       "      <th>1</th>\n",
       "      <td>Thesis Proposal Form</td>\n",
       "      <td>None</td>\n",
       "      <td>Honors 4998 Thesis</td>\n",
       "    </tr>\n",
       "    <tr>\n",
       "      <th>2</th>\n",
       "      <td>Submitting the Thesis Abstract</td>\n",
       "      <td>None</td>\n",
       "      <td>Honors 4998 Thesis</td>\n",
       "    </tr>\n",
       "    <tr>\n",
       "      <th>3</th>\n",
       "      <td>The Literature Review</td>\n",
       "      <td>None</td>\n",
       "      <td>Honors 4998 Thesis</td>\n",
       "    </tr>\n",
       "    <tr>\n",
       "      <th>0</th>\n",
       "      <td>(STU_TRA)Sample Office 365 Assignment</td>\n",
       "      <td>None</td>\n",
       "      <td>STUDENTS: Introduction to Canvas</td>\n",
       "    </tr>\n",
       "    <tr>\n",
       "      <th>1</th>\n",
       "      <td>(STU_TRA) QUIZ - MODULE 2:  Participating in a...</td>\n",
       "      <td>None</td>\n",
       "      <td>STUDENTS: Introduction to Canvas</td>\n",
       "    </tr>\n",
       "    <tr>\n",
       "      <th>2</th>\n",
       "      <td>(STU_TRA) Submit an Assignment</td>\n",
       "      <td>None</td>\n",
       "      <td>STUDENTS: Introduction to Canvas</td>\n",
       "    </tr>\n",
       "    <tr>\n",
       "      <th>3</th>\n",
       "      <td>(STU_TRA) Practice Posting a Discussion Entry</td>\n",
       "      <td>None</td>\n",
       "      <td>STUDENTS: Introduction to Canvas</td>\n",
       "    </tr>\n",
       "    <tr>\n",
       "      <th>4</th>\n",
       "      <td>(Checklist) MODULE 1:  Getting Started Using C...</td>\n",
       "      <td>None</td>\n",
       "      <td>STUDENTS: Introduction to Canvas</td>\n",
       "    </tr>\n",
       "  </tbody>\n",
       "</table>\n",
       "</div>"
      ],
      "text/plain": [
       "                                                title             due_date  \\\n",
       "0                         Spring Summer 2018 Syllabus                 None   \n",
       "1                                     Assessment File                 None   \n",
       "2       Samples of Students Work (Low-Med-High) Files                 None   \n",
       "3                                Supporting Documents                 None   \n",
       "4                       Fall 2018 Syllabus Submission                 None   \n",
       "5                          Assessment File Submission                 None   \n",
       "0                                              Lab 00  2018-09-05 10:00:00   \n",
       "1                           Roll Call Attendance 8/29                 None   \n",
       "2                                             Lab 0.5  2018-09-10 10:00:00   \n",
       "3                            Roll Call Attendance 9/5                 None   \n",
       "4                                               Lab01  2018-12-30 23:59:00   \n",
       "5                                               Lab02  2018-12-30 23:59:59   \n",
       "6                           Roll Call Attendance 9/10                 None   \n",
       "7                           Roll Call Attendance 9/12                 None   \n",
       "8                                              Lab 03  2018-12-30 23:59:00   \n",
       "9                                              Lab 04  2018-12-30 23:59:00   \n",
       "10                               Roll Call Attendance                 None   \n",
       "0                                       Assignment 1   2018-09-26 23:59:59   \n",
       "0                                Roll Call Attendance                 None   \n",
       "1                                          Homework 1  2018-09-19 11:59:00   \n",
       "2                                          Homework 2                 None   \n",
       "0                                        Thesis Draft                 None   \n",
       "1                                Thesis Proposal Form                 None   \n",
       "2                      Submitting the Thesis Abstract                 None   \n",
       "3                               The Literature Review                 None   \n",
       "0               (STU_TRA)Sample Office 365 Assignment                 None   \n",
       "1   (STU_TRA) QUIZ - MODULE 2:  Participating in a...                 None   \n",
       "2                      (STU_TRA) Submit an Assignment                 None   \n",
       "3       (STU_TRA) Practice Posting a Discussion Entry                 None   \n",
       "4   (Checklist) MODULE 1:  Getting Started Using C...                 None   \n",
       "\n",
       "                                              class  \n",
       "0                 Computer Science Assessment Group  \n",
       "1                 Computer Science Assessment Group  \n",
       "2                 Computer Science Assessment Group  \n",
       "3                 Computer Science Assessment Group  \n",
       "4                 Computer Science Assessment Group  \n",
       "5                 Computer Science Assessment Group  \n",
       "0             Fall 2018 Computer Sci 1: Lab Sec 003  \n",
       "1             Fall 2018 Computer Sci 1: Lab Sec 003  \n",
       "2             Fall 2018 Computer Sci 1: Lab Sec 003  \n",
       "3             Fall 2018 Computer Sci 1: Lab Sec 003  \n",
       "4             Fall 2018 Computer Sci 1: Lab Sec 003  \n",
       "5             Fall 2018 Computer Sci 1: Lab Sec 003  \n",
       "6             Fall 2018 Computer Sci 1: Lab Sec 003  \n",
       "7             Fall 2018 Computer Sci 1: Lab Sec 003  \n",
       "8             Fall 2018 Computer Sci 1: Lab Sec 003  \n",
       "9             Fall 2018 Computer Sci 1: Lab Sec 003  \n",
       "10            Fall 2018 Computer Sci 1: Lab Sec 003  \n",
       "0   Fall 2018 Intlgnt Systms:Algrthms&Tools Sec 001  \n",
       "0    Fall 2018 Intro: Machine Learning&Apps Sec 001  \n",
       "1    Fall 2018 Intro: Machine Learning&Apps Sec 001  \n",
       "2    Fall 2018 Intro: Machine Learning&Apps Sec 001  \n",
       "0                                Honors 4998 Thesis  \n",
       "1                                Honors 4998 Thesis  \n",
       "2                                Honors 4998 Thesis  \n",
       "3                                Honors 4998 Thesis  \n",
       "0                  STUDENTS: Introduction to Canvas  \n",
       "1                  STUDENTS: Introduction to Canvas  \n",
       "2                  STUDENTS: Introduction to Canvas  \n",
       "3                  STUDENTS: Introduction to Canvas  \n",
       "4                  STUDENTS: Introduction to Canvas  "
      ]
     },
     "execution_count": 397,
     "metadata": {},
     "output_type": "execute_result"
    }
   ],
   "source": [
    "df"
   ]
  },
  {
   "cell_type": "markdown",
   "metadata": {},
   "source": [
    "### Conversations"
   ]
  },
  {
   "cell_type": "code",
   "execution_count": null,
   "metadata": {},
   "outputs": [],
   "source": [
    "canvas.conversations_unread_count()"
   ]
  },
  {
   "cell_type": "markdown",
   "metadata": {},
   "source": [
    "### Activity Stream"
   ]
  },
  {
   "cell_type": "code",
   "execution_count": null,
   "metadata": {},
   "outputs": [],
   "source": [
    "canvas.get_activity_stream_summary()"
   ]
  },
  {
   "cell_type": "markdown",
   "metadata": {},
   "source": [
    "### Calendar Events"
   ]
  },
  {
   "cell_type": "code",
   "execution_count": 257,
   "metadata": {},
   "outputs": [],
   "source": [
    "cal_events = canvas.get_calendar_events()"
   ]
  },
  {
   "cell_type": "code",
   "execution_count": 260,
   "metadata": {},
   "outputs": [
    {
     "ename": "IndexError",
     "evalue": "list index out of range",
     "output_type": "error",
     "traceback": [
      "\u001b[1;31m---------------------------------------------------------------------------\u001b[0m",
      "\u001b[1;31mIndexError\u001b[0m                                Traceback (most recent call last)",
      "\u001b[1;32m<ipython-input-260-1663bcf914be>\u001b[0m in \u001b[0;36m<module>\u001b[1;34m()\u001b[0m\n\u001b[1;32m----> 1\u001b[1;33m \u001b[0mcal_events\u001b[0m\u001b[1;33m[\u001b[0m\u001b[1;36m0\u001b[0m\u001b[1;33m]\u001b[0m\u001b[1;33m\u001b[0m\u001b[0m\n\u001b[0m",
      "\u001b[1;32mc:\\users\\emily\\appdata\\local\\programs\\python\\python37\\lib\\site-packages\\canvasapi\\paginated_list.py\u001b[0m in \u001b[0;36m__getitem__\u001b[1;34m(self, index)\u001b[0m\n\u001b[0;32m     30\u001b[0m         \u001b[1;32mif\u001b[0m \u001b[0misinstance\u001b[0m\u001b[1;33m(\u001b[0m\u001b[0mindex\u001b[0m\u001b[1;33m,\u001b[0m \u001b[0mint\u001b[0m\u001b[1;33m)\u001b[0m\u001b[1;33m:\u001b[0m\u001b[1;33m\u001b[0m\u001b[0m\n\u001b[0;32m     31\u001b[0m             \u001b[0mself\u001b[0m\u001b[1;33m.\u001b[0m\u001b[0m_get_up_to_index\u001b[0m\u001b[1;33m(\u001b[0m\u001b[0mindex\u001b[0m\u001b[1;33m)\u001b[0m\u001b[1;33m\u001b[0m\u001b[0m\n\u001b[1;32m---> 32\u001b[1;33m             \u001b[1;32mreturn\u001b[0m \u001b[0mself\u001b[0m\u001b[1;33m.\u001b[0m\u001b[0m_elements\u001b[0m\u001b[1;33m[\u001b[0m\u001b[0mindex\u001b[0m\u001b[1;33m]\u001b[0m\u001b[1;33m\u001b[0m\u001b[0m\n\u001b[0m\u001b[0;32m     33\u001b[0m         \u001b[1;32melse\u001b[0m\u001b[1;33m:\u001b[0m\u001b[1;33m\u001b[0m\u001b[0m\n\u001b[0;32m     34\u001b[0m             \u001b[1;32mreturn\u001b[0m \u001b[0mself\u001b[0m\u001b[1;33m.\u001b[0m\u001b[0m_Slice\u001b[0m\u001b[1;33m(\u001b[0m\u001b[0mself\u001b[0m\u001b[1;33m,\u001b[0m \u001b[0mindex\u001b[0m\u001b[1;33m)\u001b[0m\u001b[1;33m\u001b[0m\u001b[0m\n",
      "\u001b[1;31mIndexError\u001b[0m: list index out of range"
     ]
    }
   ],
   "source": [
    "cal_events[0]"
   ]
  },
  {
   "cell_type": "markdown",
   "metadata": {},
   "source": [
    "### Conversations"
   ]
  },
  {
   "cell_type": "code",
   "execution_count": null,
   "metadata": {},
   "outputs": [],
   "source": [
    "convos = canvas.get_conversations()"
   ]
  },
  {
   "cell_type": "code",
   "execution_count": null,
   "metadata": {},
   "outputs": [],
   "source": [
    "convos[0]"
   ]
  },
  {
   "cell_type": "code",
   "execution_count": 81,
   "metadata": {},
   "outputs": [],
   "source": []
  }
 ],
 "metadata": {
  "kernelspec": {
   "display_name": "Python 3",
   "language": "python",
   "name": "python3"
  },
  "language_info": {
   "codemirror_mode": {
    "name": "ipython",
    "version": 3
   },
   "file_extension": ".py",
   "mimetype": "text/x-python",
   "name": "python",
   "nbconvert_exporter": "python",
   "pygments_lexer": "ipython3",
   "version": "3.7.0"
  }
 },
 "nbformat": 4,
 "nbformat_minor": 2
}
