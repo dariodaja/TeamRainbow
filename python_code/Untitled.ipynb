{
 "cells": [
  {
   "cell_type": "code",
   "execution_count": 402,
   "metadata": {},
   "outputs": [],
   "source": [
    "from canvasapi import Canvas\n",
    "from canvasapi import course\n",
    "from canvasapi import requester\n",
    "import dialogflow\n",
    "import re\n",
    "import datetime\n",
    "import pytz\n",
    "import pandas as pd\n",
    "import apiai\n",
    "import json"
   ]
  },
  {
   "cell_type": "markdown",
   "metadata": {},
   "source": [
    "### Header"
   ]
  },
  {
   "cell_type": "code",
   "execution_count": 2,
   "metadata": {},
   "outputs": [],
   "source": [
    "canvas = Canvas(\"https://canvas.instructure.com/\", \"9226~IXAVPEwPuGlKnvPD7eVYRjQQBKyEIRd8O26iQIEncL8bsg6SHJsGUHBoKlPD2tW4\")"
   ]
  },
  {
   "cell_type": "markdown",
   "metadata": {},
   "source": [
    "### Functions"
   ]
  },
  {
   "cell_type": "code",
   "execution_count": 116,
   "metadata": {},
   "outputs": [],
   "source": [
    "def size(object):\n",
    "    v = 0\n",
    "    for i in object:\n",
    "        v = v + 1\n",
    "    return(v)"
   ]
  },
  {
   "cell_type": "code",
   "execution_count": 291,
   "metadata": {},
   "outputs": [],
   "source": [
    "def object_names(object):\n",
    "    object_list = []\n",
    "    for i in range(size(object)):\n",
    "        object_list.append(object[i].name)\n",
    "    return(object_list)      "
   ]
  },
  {
   "cell_type": "code",
   "execution_count": 382,
   "metadata": {},
   "outputs": [],
   "source": [
    "def object_due_date(object):\n",
    "    object_list = []\n",
    "    for i in range(size(object)):\n",
    "        try:\n",
    "           object_list.append(((object[i].lock_at_date).astimezone(pytz.timezone(\"America/New_York\"))).strftime(\"%Y-%m-%d %H:%M:%S\"))\n",
    "        except:\n",
    "           object_list.append(None)\n",
    "    return(object_list)"
   ]
  },
  {
   "cell_type": "markdown",
   "metadata": {},
   "source": [
    "### Return courses"
   ]
  },
  {
   "cell_type": "code",
   "execution_count": 87,
   "metadata": {},
   "outputs": [],
   "source": [
    "courses_list = canvas.get_courses(enrollment_status='active')"
   ]
  },
  {
   "cell_type": "code",
   "execution_count": 292,
   "metadata": {},
   "outputs": [],
   "source": [
    "courses = object_names(courses_list)"
   ]
  },
  {
   "cell_type": "code",
   "execution_count": 69,
   "metadata": {},
   "outputs": [
    {
     "data": {
      "text/plain": [
       "['COM 2160',\n",
       " 'Computer Science Assessment Group',\n",
       " 'Fall 2018 Algebra 1 Sec 001',\n",
       " 'Fall 2018 Computer Sci 1: Lab Sec 003',\n",
       " 'Fall 2018 Intlgnt Systms:Algrthms&Tools Sec 001',\n",
       " 'Fall 2018 Intro: Machine Learning&Apps Sec 001',\n",
       " 'Honors 4998 Thesis',\n",
       " 'STUDENTS: Introduction to Canvas']"
      ]
     },
     "execution_count": 69,
     "metadata": {},
     "output_type": "execute_result"
    }
   ],
   "source": [
    "courses"
   ]
  },
  {
   "cell_type": "code",
   "execution_count": 313,
   "metadata": {},
   "outputs": [],
   "source": [
    "all_hw = []\n",
    "for i in range(size(courses_list)):\n",
    "    all_hw.append(object_names(course.Course.get_assignments(courses_list[i])))"
   ]
  },
  {
   "cell_type": "code",
   "execution_count": 280,
   "metadata": {},
   "outputs": [
    {
     "data": {
      "text/plain": [
       "datetime.datetime(2018, 9, 27, 3, 59, 59, tzinfo=<UTC>)"
      ]
     },
     "execution_count": 280,
     "metadata": {},
     "output_type": "execute_result"
    }
   ],
   "source": [
    "course.Course.get_assignments(courses_list[4])[0].lock_at_date"
   ]
  },
  {
   "cell_type": "code",
   "execution_count": 383,
   "metadata": {},
   "outputs": [],
   "source": [
    "all_due_dates = []\n",
    "for i in range(size(courses_list)):\n",
    "    all_due_dates.append(object_due_date(course.Course.get_assignments(courses_list[i])))"
   ]
  },
  {
   "cell_type": "code",
   "execution_count": 394,
   "metadata": {},
   "outputs": [],
   "source": [
    "df_list = []\n",
    "for i in range(size(courses)):\n",
    "  df_list.append(pd.DataFrame({'title' : all_hw[i], 'due_date' : all_due_dates[i], 'class' : courses[i]}))"
   ]
  },
  {
   "cell_type": "code",
   "execution_count": 396,
   "metadata": {},
   "outputs": [],
   "source": [
    "df = pd.concat(df_list)"
   ]
  },
  {
   "cell_type": "markdown",
   "metadata": {},
   "source": [
    "### Conversations"
   ]
  },
  {
   "cell_type": "code",
   "execution_count": null,
   "metadata": {},
   "outputs": [],
   "source": [
    "canvas.conversations_unread_count()"
   ]
  },
  {
   "cell_type": "markdown",
   "metadata": {},
   "source": [
    "### Activity Stream"
   ]
  },
  {
   "cell_type": "code",
   "execution_count": null,
   "metadata": {},
   "outputs": [],
   "source": [
    "canvas.get_activity_stream_summary()"
   ]
  },
  {
   "cell_type": "markdown",
   "metadata": {},
   "source": [
    "### Conversations"
   ]
  },
  {
   "cell_type": "code",
   "execution_count": null,
   "metadata": {},
   "outputs": [],
   "source": [
    "convos = canvas.get_conversations()"
   ]
  },
  {
   "cell_type": "code",
   "execution_count": null,
   "metadata": {},
   "outputs": [],
   "source": [
    "convos[0]"
   ]
  },
  {
   "cell_type": "code",
   "execution_count": 81,
   "metadata": {},
   "outputs": [],
   "source": []
  }
 ],
 "metadata": {
  "kernelspec": {
   "display_name": "Python 3",
   "language": "python",
   "name": "python3"
  },
  "language_info": {
   "codemirror_mode": {
    "name": "ipython",
    "version": 3
   },
   "file_extension": ".py",
   "mimetype": "text/x-python",
   "name": "python",
   "nbconvert_exporter": "python",
   "pygments_lexer": "ipython3",
   "version": "3.7.0"
  }
 },
 "nbformat": 4,
 "nbformat_minor": 2
}
