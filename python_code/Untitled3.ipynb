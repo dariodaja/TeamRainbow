{
 "cells": [
  {
   "cell_type": "code",
   "execution_count": 8,
   "metadata": {},
   "outputs": [
    {
     "name": "stdout",
     "output_type": "stream",
     "text": [
      "> "
     ]
    },
    {
     "ename": "NameError",
     "evalue": "name 'raw_input' is not defined",
     "output_type": "error",
     "traceback": [
      "\u001b[1;31m---------------------------------------------------------------------------\u001b[0m",
      "\u001b[1;31mNameError\u001b[0m                                 Traceback (most recent call last)",
      "\u001b[1;32m<ipython-input-8-fb1e705750fe>\u001b[0m in \u001b[0;36m<module>\u001b[1;34m()\u001b[0m\n\u001b[0;32m     84\u001b[0m \u001b[1;33m\u001b[0m\u001b[0m\n\u001b[0;32m     85\u001b[0m \u001b[1;32mif\u001b[0m \u001b[0m__name__\u001b[0m \u001b[1;33m==\u001b[0m \u001b[1;34m'__main__'\u001b[0m\u001b[1;33m:\u001b[0m\u001b[1;33m\u001b[0m\u001b[0m\n\u001b[1;32m---> 86\u001b[1;33m     \u001b[0mmain\u001b[0m\u001b[1;33m(\u001b[0m\u001b[1;33m)\u001b[0m\u001b[1;33m\u001b[0m\u001b[0m\n\u001b[0m",
      "\u001b[1;32m<ipython-input-8-fb1e705750fe>\u001b[0m in \u001b[0;36mmain\u001b[1;34m()\u001b[0m\n\u001b[0;32m     45\u001b[0m     \u001b[1;32mwhile\u001b[0m \u001b[1;32mTrue\u001b[0m\u001b[1;33m:\u001b[0m\u001b[1;33m\u001b[0m\u001b[0m\n\u001b[0;32m     46\u001b[0m         \u001b[0mprint\u001b[0m\u001b[1;33m(\u001b[0m\u001b[1;34mu\"> \"\u001b[0m\u001b[1;33m,\u001b[0m \u001b[0mend\u001b[0m\u001b[1;33m=\u001b[0m\u001b[1;34mu\"\"\u001b[0m\u001b[1;33m)\u001b[0m\u001b[1;33m\u001b[0m\u001b[0m\n\u001b[1;32m---> 47\u001b[1;33m         \u001b[0muser_message\u001b[0m \u001b[1;33m=\u001b[0m \u001b[0mraw_input\u001b[0m\u001b[1;33m(\u001b[0m\u001b[1;33m)\u001b[0m\u001b[1;33m\u001b[0m\u001b[0m\n\u001b[0m\u001b[0;32m     48\u001b[0m \u001b[1;33m\u001b[0m\u001b[0m\n\u001b[0;32m     49\u001b[0m         \u001b[1;32mif\u001b[0m \u001b[0muser_message\u001b[0m \u001b[1;33m==\u001b[0m \u001b[1;34mu\"exit\"\u001b[0m\u001b[1;33m:\u001b[0m\u001b[1;33m\u001b[0m\u001b[0m\n",
      "\u001b[1;31mNameError\u001b[0m: name 'raw_input' is not defined"
     ]
    }
   ],
   "source": [
    "# -*- coding:utf8 -*-\n",
    "# !/usr/bin/env python\n",
    "# Copyright 2017 Google Inc. All Rights Reserved.\n",
    "#\n",
    "# Licensed under the Apache License, Version 2.0 (the \"License\");\n",
    "# you may not use this file except in compliance with the License.\n",
    "# You may obtain a copy of the License at\n",
    "#\n",
    "#     http://www.apache.org/licenses/LICENSE-2.0\n",
    "#\n",
    "# Unless required by applicable law or agreed to in writing, software\n",
    "# distributed under the License is distributed on an \"AS IS\" BASIS,\n",
    "# WITHOUT WARRANTIES OR CONDITIONS OF ANY KIND, either express or implied.\n",
    "# See the License for the specific language governing permissions and\n",
    "# limitations under the License.\n",
    "\n",
    "from __future__ import print_function\n",
    "\n",
    "import os\n",
    "import sys\n",
    "import json\n",
    "\n",
    "try:\n",
    "    import apiai\n",
    "except ImportError:\n",
    "    sys.path.append(\n",
    "        os.path.join(\n",
    "            os.path.dirname(os.path.realpath(__file__)),\n",
    "            os.pardir,\n",
    "            os.pardir\n",
    "        )\n",
    "    )\n",
    "\n",
    "    import apiai\n",
    "\n",
    "\n",
    "# demo agent acess token: e5dc21cab6df451c866bf5efacb40178\n",
    "\n",
    "CLIENT_ACCESS_TOKEN = 'e5dc21cab6df451c866bf5efacb40178'\n",
    "\n",
    "\n",
    "def main():\n",
    "    ai = apiai.ApiAI(CLIENT_ACCESS_TOKEN)\n",
    "\n",
    "    while True:\n",
    "        print(u\"> \", end=u\"\")\n",
    "        user_message = raw_input()\n",
    "\n",
    "        if user_message == u\"exit\":\n",
    "            break\n",
    "\n",
    "        request = ai.text_request()\n",
    "        request.query = user_message\n",
    "\n",
    "        response = json.loads(request.getresponse().read())\n",
    "\n",
    "        result = response['result']\n",
    "        action = result.get('action')\n",
    "        actionIncomplete = result.get('actionIncomplete', False)\n",
    "\n",
    "        print(u\"< %s\" % response['result']['fulfillment']['speech'])\n",
    "\n",
    "        if action is not None:\n",
    "            if action == u\"send_message\":\n",
    "                parameters = result['parameters']\n",
    "\n",
    "                text = parameters.get('text')\n",
    "                message_type = parameters.get('message_type')\n",
    "                parent = parameters.get('parent')\n",
    "\n",
    "                print (\n",
    "                    'text: %s, message_type: %s, parent: %s' %\n",
    "                    (\n",
    "                        text if text else \"null\",\n",
    "                        message_type if message_type else \"null\",\n",
    "                        parent if parent else \"null\"\n",
    "                    )\n",
    "                )\n",
    "\n",
    "                if not actionIncomplete:\n",
    "                    print(u\"...Sending Message...\")\n",
    "                    break\n",
    "\n",
    "\n",
    "if __name__ == '__main__':\n",
    "    main()"
   ]
  }
 ],
 "metadata": {
  "kernelspec": {
   "display_name": "Python 3",
   "language": "python",
   "name": "python3"
  },
  "language_info": {
   "codemirror_mode": {
    "name": "ipython",
    "version": 3
   },
   "file_extension": ".py",
   "mimetype": "text/x-python",
   "name": "python",
   "nbconvert_exporter": "python",
   "pygments_lexer": "ipython3",
   "version": "3.7.0"
  }
 },
 "nbformat": 4,
 "nbformat_minor": 2
}
